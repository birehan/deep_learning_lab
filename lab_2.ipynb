{
  "cells": [
    {
      "cell_type": "markdown",
      "metadata": {
        "id": "fgz2Bpge_vmO"
      },
      "source": [
        "# Exercise\n",
        "- Create a PyTorch deep learning model that consist of an input layer with 5 features, three hidden layers, each with 16 neurons, and an output layer with 5 classes."
      ]
    },
    {
      "cell_type": "markdown",
      "metadata": {
        "id": "vXoEXLkWCMIj"
      },
      "source": [
        "## 1. Import PyTorch"
      ]
    },
    {
      "cell_type": "code",
      "execution_count": 5,
      "metadata": {
        "id": "HAJQ2-VBA6ji"
      },
      "outputs": [],
      "source": [
        "import torch"
      ]
    },
    {
      "cell_type": "markdown",
      "metadata": {
        "id": "h1ARfrw8CPxi"
      },
      "source": [
        "## 2. Neural Network Dense Layer Class"
      ]
    },
    {
      "cell_type": "code",
      "execution_count": 7,
      "metadata": {
        "id": "4bHfyvKNAu88"
      },
      "outputs": [],
      "source": [
        "class DenseLayer:\n",
        "    def __init__(self, n_features, n_neurons, learning_rate = 0.01):\n",
        "        self.biase = torch.zeros(1, n_neurons)\n",
        "        self.weights = learning_rate * torch.rand(n_features, n_neurons)\n",
        "    \n",
        "    def forward(self, inputs):\n",
        "        self.output = torch.matmul(inputs, self.weights) + self.biase\n",
        "        return self.output\n",
        "    \n",
        "    #  def forward(self, inputs):\n",
        "    #     self.output = torch.matmul(inputs, self.weights) + self.biases\n",
        "        \n",
        "        \n",
        "    # def __init__(self, n_features, n_neurons, learning_rate = 0.01):\n",
        "    #     self.weights = learning_rate * torch.rand((n_features, n_neurons))\n",
        "    #     self.biases = torch.zeros((1, n_neurons))\n",
        "\n",
        "   "
      ]
    },
    {
      "cell_type": "markdown",
      "metadata": {
        "id": "f2pOPB78Cj4g"
      },
      "source": [
        "## 4. Create the 3 dense layers and output layer"
      ]
    },
    {
      "cell_type": "code",
      "execution_count": 32,
      "metadata": {
        "id": "u7vLYZWa_tae"
      },
      "outputs": [],
      "source": [
        "input_layer = DenseLayer(5, 16)\n",
        "hidden_layer1 = DenseLayer(16, 16)\n",
        "hidden_layer2 = DenseLayer(16, 16)\n",
        "output_layer = DenseLayer(16, 5)"
      ]
    },
    {
      "cell_type": "markdown",
      "metadata": {
        "id": "EJbqZjcUC_x2"
      },
      "source": [
        "## 5. Generate random input data"
      ]
    },
    {
      "cell_type": "code",
      "execution_count": 26,
      "metadata": {
        "id": "yFFEE_7tC-9O"
      },
      "outputs": [],
      "source": [
        "input = torch.rand((32, 5))"
      ]
    },
    {
      "cell_type": "markdown",
      "metadata": {
        "id": "UP_Rr4uqDL0G"
      },
      "source": [
        "## 6. Forward pass through the network"
      ]
    },
    {
      "cell_type": "code",
      "execution_count": 41,
      "metadata": {
        "colab": {
          "base_uri": "https://localhost:8080/"
        },
        "id": "6Lzocj2zC9VL",
        "outputId": "41663a89-aa94-4ba9-a6ed-a1194cd4f60b"
      },
      "outputs": [
        {
          "name": "stdout",
          "output_type": "stream",
          "text": [
            "Output shape:  torch.Size([32, 5])\n"
          ]
        }
      ],
      "source": [
        "input_layer.forward(input)\n",
        "hidden_layer1.forward(input_layer.output)\n",
        "hidden_layer2.forward(hidden_layer1.output)\n",
        "output_layer.forward(hidden_layer2.output)\n",
        "\n",
        "# Print the shape of the final output\n",
        "print(\"Output shape: \", output_layer.output.shape)"
      ]
    }
  ],
  "metadata": {
    "colab": {
      "provenance": []
    },
    "kernelspec": {
      "display_name": "Python 3",
      "name": "python3"
    },
    "language_info": {
      "codemirror_mode": {
        "name": "ipython",
        "version": 3
      },
      "file_extension": ".py",
      "mimetype": "text/x-python",
      "name": "python",
      "nbconvert_exporter": "python",
      "pygments_lexer": "ipython3",
      "version": "3.9.13"
    }
  },
  "nbformat": 4,
  "nbformat_minor": 0
}
