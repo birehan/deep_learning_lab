{
  "cells": [
    {
      "cell_type": "markdown",
      "metadata": {
        "id": "Bi8lmqWNSZ11"
      },
      "source": [
        "### Name: Birehan Anteneh\n",
        "### ID N0: UGR/4886/12"
      ]
    },
    {
      "cell_type": "markdown",
      "metadata": {
        "id": "AzDBM_v4iMe7"
      },
      "source": [
        "# PyTorch Fundamentals Exercises\n",
        "\n",
        "### 1. Documentation reading\n",
        "\n",
        "A big part of deep learning (and learning to code in general) is getting familiar with the documentation of a certain framework you're using. We'll be using the PyTorch documentation a lot throughout the rest of this course.\n",
        "  * The documentation on [`torch.Tensor`](https://pytorch.org/docs/stable/tensors.html#torch-tensor).\n",
        "  * The documentation on [`torch.cuda`](https://pytorch.org/docs/master/notes/cuda.html#cuda-semantics).\n",
        "\n"
      ]
    },
    {
      "cell_type": "markdown",
      "metadata": {
        "id": "__iXqqz-ioUJ"
      },
      "source": [
        "### 2. Create a random tensor with shape `(7, 7)`.\n"
      ]
    },
    {
      "cell_type": "code",
      "execution_count": 2,
      "metadata": {
        "colab": {
          "base_uri": "https://localhost:8080/"
        },
        "id": "6pUq9Dc8i2L7",
        "outputId": "4858aa40-c27f-4d9c-f56d-ee83533e0ad9"
      },
      "outputs": [
        {
          "name": "stdout",
          "output_type": "stream",
          "text": [
            "tensor([[0.3616, 0.3513, 0.6106, 0.2258, 0.7427, 0.4757, 0.3251],\n",
            "        [0.1393, 0.1666, 0.5646, 0.3167, 0.1018, 0.2310, 0.6372],\n",
            "        [0.3134, 0.3081, 0.5985, 0.2161, 0.9012, 0.9734, 0.5766],\n",
            "        [0.1371, 0.4617, 0.1895, 0.2862, 0.8829, 0.0777, 0.4160],\n",
            "        [0.5741, 0.1826, 0.8660, 0.1289, 0.3663, 0.0550, 0.7405],\n",
            "        [0.7777, 0.3321, 0.1280, 0.7695, 0.5877, 0.1115, 0.2055],\n",
            "        [0.7058, 0.6106, 0.8020, 0.8430, 0.7635, 0.0905, 0.3246]])\n"
          ]
        }
      ],
      "source": [
        "# Import torch\n",
        "\n",
        "import torch\n",
        "# Create random tensor\n",
        "random_tensor = torch.rand(7, 7)\n",
        "print(random_tensor)"
      ]
    },
    {
      "cell_type": "markdown",
      "metadata": {
        "id": "9-XxvRLfiqkR"
      },
      "source": [
        "### 3. Perform a matrix multiplication on the tensor from 2 with another random tensor with shape `(1, 7)` (hint: you may have to transpose the second tensor)."
      ]
    },
    {
      "cell_type": "code",
      "execution_count": 3,
      "metadata": {
        "colab": {
          "base_uri": "https://localhost:8080/"
        },
        "id": "NcLqR0Sbi_vT",
        "outputId": "73103af4-8dec-4ce7-f126-ca9aba4f0269"
      },
      "outputs": [
        {
          "name": "stdout",
          "output_type": "stream",
          "text": [
            "tensor([[1.7088],\n",
            "        [1.1622],\n",
            "        [2.3099],\n",
            "        [1.0916],\n",
            "        [1.7021],\n",
            "        [1.1885],\n",
            "        [1.8187]])\n"
          ]
        }
      ],
      "source": [
        "# Create another random tensor\n",
        "random_tensor2 = torch.rand(1, 7)\n",
        "random_tensor2_transposed = random_tensor2.t()\n",
        "\n",
        "# Perform matrix multiplication\n",
        "result = torch.mm(random_tensor, random_tensor2_transposed)\n",
        "\n",
        "print(result)\n"
      ]
    },
    {
      "cell_type": "markdown",
      "metadata": {
        "id": "eiutdKUFiryU"
      },
      "source": [
        "### 4. Set the random seed to `0` and do 2 & 3 over again.\n",
        "\n",
        "> Indented block\n",
        "\n",
        "\n",
        "\n",
        "The output should be:\n",
        "```\n",
        "(tensor([[1.8542],\n",
        "         [1.9611],\n",
        "         [2.2884],\n",
        "         [3.0481],\n",
        "         [1.7067],\n",
        "         [2.5290],\n",
        "         [1.7989]]), torch.Size([7, 1]))\n",
        "```"
      ]
    },
    {
      "cell_type": "code",
      "execution_count": 11,
      "metadata": {
        "colab": {
          "base_uri": "https://localhost:8080/"
        },
        "id": "D-lOWI_1jRMm",
        "outputId": "9421e50f-4d4f-4cbb-c7b9-f309ac1e7d1e"
      },
      "outputs": [
        {
          "name": "stdout",
          "output_type": "stream",
          "text": [
            "torch.Size([7, 7]) torch.Size([7, 1])\n",
            "tensor([[1.8542],\n",
            "        [1.9611],\n",
            "        [2.2884],\n",
            "        [3.0481],\n",
            "        [1.7067],\n",
            "        [2.5290],\n",
            "        [1.7989]])\n"
          ]
        }
      ],
      "source": [
        "# Set manual seed\n",
        "\n",
        "torch.manual_seed(0)\n",
        "\n",
        "# Create two random tensors\n",
        "random_tensor1 = torch.rand(7, 7)\n",
        "random_tensor2 = torch.rand(1, 7)\n",
        "random_tensor2_transposed = random_tensor2.t()\n",
        "print(random_tensor1.shape, random_tensor2_transposed.shape)\n",
        "\n",
        "# Matrix multiply tensors\n",
        "result = torch.mm(random_tensor1, random_tensor2_transposed)\n",
        "print(result)"
      ]
    },
    {
      "cell_type": "markdown",
      "metadata": {
        "id": "ezY6ks9Cis37"
      },
      "source": [
        "### 5. Speaking of random seeds, we saw how to set it with `torch.manual_seed()` but is there a GPU equivalent? (hint: you'll need to look into the documentation for `torch.cuda` for this one)\n",
        "  * If there is, set the GPU random seed to `1234`."
      ]
    },
    {
      "cell_type": "code",
      "execution_count": 12,
      "metadata": {
        "id": "_LKWcfSTjp00"
      },
      "outputs": [],
      "source": [
        "# Set random seed on the GPU\n",
        "if torch.cuda.is_available():\n",
        "  torch.cuda.manual_seed(1234)"
      ]
    },
    {
      "cell_type": "markdown",
      "metadata": {
        "id": "Ir9qSaj6it4n"
      },
      "source": [
        "\n",
        "### 6. Create two random tensors of shape `(2, 3)` and send them both to the GPU (you'll need access to a GPU for this). Set `torch.manual_seed(1234)` when creating the tensors (this doesn't have to be the GPU random seed). The output should be something like:\n",
        "\n",
        "```\n",
        "Device: cuda\n",
        "(tensor([[0.0290, 0.4019, 0.2598],\n",
        "         [0.3666, 0.0583, 0.7006]], device='cuda:0'),\n",
        " tensor([[0.0518, 0.4681, 0.6738],\n",
        "         [0.3315, 0.7837, 0.5631]], device='cuda:0'))\n",
        "```"
      ]
    },
    {
      "cell_type": "code",
      "execution_count": 13,
      "metadata": {
        "colab": {
          "base_uri": "https://localhost:8080/"
        },
        "id": "azXExiFZj5nm",
        "outputId": "e44048f8-8095-4c63-f9d6-4006e2470793"
      },
      "outputs": [
        {
          "name": "stdout",
          "output_type": "stream",
          "text": [
            "Device: cpu\n",
            "tensor([[0.0290, 0.4019, 0.2598],\n",
            "        [0.3666, 0.0583, 0.7006]])\n",
            "tensor([[0.0518, 0.4681, 0.6738],\n",
            "        [0.3315, 0.7837, 0.5631]])\n"
          ]
        }
      ],
      "source": [
        "# Set random seed\n",
        "\n",
        "device = \"cpu\"\n",
        "\n",
        "# if torch.cuda.is_available():\n",
        "#     device = torch.device(\"cuda:0\")\n",
        "\n",
        "torch.manual_seed(1234)\n",
        "\n",
        "# Create two random tensors\n",
        "tensor1 = torch.rand(2, 3, device=device)\n",
        "tensor2 = torch.rand(2, 3, device=device)\n",
        "\n",
        "print(\"Device:\", device)\n",
        "print(tensor1)\n",
        "print(tensor2)"
      ]
    },
    {
      "cell_type": "markdown",
      "metadata": {
        "id": "5TlAxeiSiu1y"
      },
      "source": [
        "\n",
        "### 7. Perform a matrix multiplication on the tensors you created in 6 (again, you may have to adjust the shapes of one of the tensors).\n",
        "\n",
        "The output should look like:\n",
        "```\n",
        "(tensor([[0.3647, 0.4709],\n",
        "         [0.5184, 0.5617]], device='cuda:0'), torch.Size([2, 2]))\n",
        "```"
      ]
    },
    {
      "cell_type": "code",
      "execution_count": 14,
      "metadata": {
        "colab": {
          "base_uri": "https://localhost:8080/"
        },
        "id": "fAeG7ox0lHEO",
        "outputId": "d4330577-f09e-47e3-fd2c-5f572c1bd862"
      },
      "outputs": [
        {
          "name": "stdout",
          "output_type": "stream",
          "text": [
            "tensor([[0.3647, 0.4709],\n",
            "        [0.5184, 0.5617]]) cpu torch.Size([2, 2])\n"
          ]
        }
      ],
      "source": [
        "# Perform matmul on tensor_A and tensor_B\n",
        "result = torch.mm(tensor1, tensor2.T)\n",
        "print(result,result.device, result.size())"
      ]
    },
    {
      "cell_type": "markdown",
      "metadata": {
        "id": "G7qfa5CSivwg"
      },
      "source": [
        "### 8. Find the maximum and minimum values of the output of 7.\n",
        "\n",
        "*   List item\n",
        "*   List item\n",
        "\n"
      ]
    },
    {
      "cell_type": "code",
      "execution_count": 18,
      "metadata": {
        "colab": {
          "base_uri": "https://localhost:8080/"
        },
        "id": "Fu8_3mZpllOd",
        "outputId": "986b2b5a-f1f9-45d5-9896-cea84491edb9"
      },
      "outputs": [
        {
          "name": "stdout",
          "output_type": "stream",
          "text": [
            "Maximum value: 0.5617256760597229\n",
            "Minimum value: 0.3647301495075226\n"
          ]
        }
      ],
      "source": [
        "# Find max\n",
        "max_value = torch.max(result)\n",
        "# Find min\n",
        "min_value = torch.min(result)\n",
        "\n",
        "\n",
        "print(\"Maximum value:\", max_value.item())\n",
        "print(\"Minimum value:\", min_value.item())"
      ]
    },
    {
      "cell_type": "markdown",
      "metadata": {
        "id": "wrTj5FgNiw47"
      },
      "source": [
        "### 9. Find the maximum and minimum index values of the output of 7."
      ]
    },
    {
      "cell_type": "code",
      "execution_count": 25,
      "metadata": {
        "colab": {
          "base_uri": "https://localhost:8080/"
        },
        "id": "CCEKt4K2lsfQ",
        "outputId": "dd18ad3b-e866-4a70-9d73-0711fb988f4e"
      },
      "outputs": [
        {
          "name": "stdout",
          "output_type": "stream",
          "text": [
            "tensor(3)\n",
            "Indices of Maximum Value: tensor(3)\n",
            "Indices of Minimum Value: tensor(0)\n"
          ]
        }
      ],
      "source": [
        "print(result.argmax())\n",
        "\n",
        "# Find arg max\n",
        "max_indices = result.argmax()\n",
        "# Find arg min\n",
        "min_indices = result.argmin()\n",
        "print(\"Indices of Maximum Value:\", max_indices)\n",
        "print(\"Indices of Minimum Value:\", min_indices)"
      ]
    },
    {
      "cell_type": "markdown",
      "metadata": {
        "id": "hmeybz4uixy7"
      },
      "source": [
        "\n",
        "### 10. Make a random tensor with shape `(1, 1, 1, 10)` and then create a new tensor with all the `1` dimensions removed to be left with a tensor of shape `(10)`. Set the seed to `7` when you create it and print out the first tensor and it's shape as well as the second tensor and it's shape.\n",
        "\n",
        "The output should look like:\n",
        "\n",
        "```\n",
        "tensor([[[[0.5349, 0.1988, 0.6592, 0.6569, 0.2328, 0.4251, 0.2071, 0.6297,\n",
        "           0.3653, 0.8513]]]]) torch.Size([1, 1, 1, 10])\n",
        "tensor([0.5349, 0.1988, 0.6592, 0.6569, 0.2328, 0.4251, 0.2071, 0.6297, 0.3653,\n",
        "        0.8513]) torch.Size([10])\n",
        "```"
      ]
    },
    {
      "cell_type": "code",
      "execution_count": 26,
      "metadata": {
        "colab": {
          "base_uri": "https://localhost:8080/"
        },
        "id": "TQ9zbRzVl1jV",
        "outputId": "ad1dba11-7193-4983-8088-891ee58460e5"
      },
      "outputs": [
        {
          "name": "stdout",
          "output_type": "stream",
          "text": [
            "tensor([[[[0.5349, 0.1988, 0.6592, 0.6569, 0.2328, 0.4251, 0.2071, 0.6297,\n",
            "           0.3653, 0.8513]]]])\n",
            "torch.Size([1, 1, 1, 10])\n",
            "tensor([0.5349, 0.1988, 0.6592, 0.6569, 0.2328, 0.4251, 0.2071, 0.6297, 0.3653,\n",
            "        0.8513])\n",
            "torch.Size([10])\n"
          ]
        }
      ],
      "source": [
        "# Set seed\n",
        "torch.manual_seed(7)\n",
        "# Create random tensor\n",
        "tensor1 = torch.rand(1, 1, 1, 10)\n",
        "\n",
        "# Remove single dimensions\n",
        "tensor2 = tensor1.squeeze()\n",
        "\n",
        "# Print out tensors and their shapes\n",
        "print(tensor1)\n",
        "print(tensor1.shape)\n",
        "print(tensor2)\n",
        "print(tensor2.shape)"
      ]
    }
  ],
  "metadata": {
    "accelerator": "GPU",
    "colab": {
      "gpuType": "T4",
      "provenance": []
    },
    "kernelspec": {
      "display_name": "Python 3",
      "name": "python3"
    },
    "language_info": {
      "codemirror_mode": {
        "name": "ipython",
        "version": 3
      },
      "file_extension": ".py",
      "mimetype": "text/x-python",
      "name": "python",
      "nbconvert_exporter": "python",
      "pygments_lexer": "ipython3",
      "version": "3.9.13"
    }
  },
  "nbformat": 4,
  "nbformat_minor": 0
}
