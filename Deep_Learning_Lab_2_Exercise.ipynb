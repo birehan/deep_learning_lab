{
  "nbformat": 4,
  "nbformat_minor": 0,
  "metadata": {
    "colab": {
      "provenance": []
    },
    "kernelspec": {
      "name": "python3",
      "display_name": "Python 3"
    },
    "language_info": {
      "name": "python"
    }
  },
  "cells": [
    {
      "cell_type": "markdown",
      "source": [
        "# Exercise\n",
        "- Create a PyTorch deep learning model that consist of an input layer with 5 features, three hidden layers, each with 16 neurons, and an output layer with 5 classes."
      ],
      "metadata": {
        "id": "fgz2Bpge_vmO"
      }
    },
    {
      "cell_type": "markdown",
      "source": [
        "## 1. Import PyTorch"
      ],
      "metadata": {
        "id": "vXoEXLkWCMIj"
      }
    },
    {
      "cell_type": "code",
      "source": [
        "import torch"
      ],
      "metadata": {
        "id": "HAJQ2-VBA6ji"
      },
      "execution_count": 4,
      "outputs": []
    },
    {
      "cell_type": "markdown",
      "source": [
        "## 2. Neural Network Dense Layer Class"
      ],
      "metadata": {
        "id": "h1ARfrw8CPxi"
      }
    },
    {
      "cell_type": "code",
      "source": [
        "class DenseLayer:\n",
        "    def __init__(self, n_features, n_neurons):\n",
        "        self.weights = 0.01 * torch.rand((n_features, n_neurons))\n",
        "        self.biases = torch.zeros((1, n_neurons))\n",
        "\n",
        "    def forward(self, inputs):\n",
        "        self.output = torch.matmul(inputs, self.weights) + self.biases"
      ],
      "metadata": {
        "id": "4bHfyvKNAu88"
      },
      "execution_count": 7,
      "outputs": []
    },
    {
      "cell_type": "markdown",
      "source": [
        "## 4. Create the 3 dense layers and output layer"
      ],
      "metadata": {
        "id": "f2pOPB78Cj4g"
      }
    },
    {
      "cell_type": "code",
      "source": [
        "input_layer = DenseLayer(5, 16)\n",
        "hidden_layer1 = DenseLayer(16, 16)\n",
        "hidden_layer2 = DenseLayer(16, 16)\n",
        "output_layer = DenseLayer(16, 5)"
      ],
      "metadata": {
        "id": "u7vLYZWa_tae"
      },
      "execution_count": 10,
      "outputs": []
    },
    {
      "cell_type": "markdown",
      "source": [
        "## 5. Generate random input data"
      ],
      "metadata": {
        "id": "EJbqZjcUC_x2"
      }
    },
    {
      "cell_type": "code",
      "source": [
        "input = torch.rand((32, 5))"
      ],
      "metadata": {
        "id": "yFFEE_7tC-9O"
      },
      "execution_count": 11,
      "outputs": []
    },
    {
      "cell_type": "markdown",
      "source": [
        "## 6. Forward pass through the network"
      ],
      "metadata": {
        "id": "UP_Rr4uqDL0G"
      }
    },
    {
      "cell_type": "code",
      "source": [
        "input_layer.forward(input)\n",
        "hidden_layer1.forward(input_layer.output)\n",
        "hidden_layer2.forward(hidden_layer1.output)\n",
        "output_layer.forward(hidden_layer2.output)\n",
        "\n",
        "# Print the shape of the final output\n",
        "print(\"Output shape: \", output_layer.output.shape)"
      ],
      "metadata": {
        "colab": {
          "base_uri": "https://localhost:8080/"
        },
        "id": "6Lzocj2zC9VL",
        "outputId": "41663a89-aa94-4ba9-a6ed-a1194cd4f60b"
      },
      "execution_count": 12,
      "outputs": [
        {
          "output_type": "stream",
          "name": "stdout",
          "text": [
            "Output shape:  torch.Size([32, 5])\n"
          ]
        }
      ]
    },
    {
      "cell_type": "code",
      "source": [],
      "metadata": {
        "id": "8ZjTmU8vDVtZ"
      },
      "execution_count": null,
      "outputs": []
    }
  ]
}